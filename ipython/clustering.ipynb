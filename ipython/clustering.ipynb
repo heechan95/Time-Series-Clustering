{
 "cells": [
  {
   "cell_type": "code",
   "execution_count": 1,
   "metadata": {},
   "outputs": [],
   "source": [
    "from tslearn.metrics import dtw\n",
    "#print(dtw(arr1,arr2)*100/<lengthOfArray>)"
   ]
  },
  {
   "cell_type": "code",
   "execution_count": 335,
   "metadata": {},
   "outputs": [
    {
     "name": "stdout",
     "output_type": "stream",
     "text": [
      "./\n",
      "./celltrion\n",
      "./.ipynb_checkpoints\n",
      "./kbfinancial\n",
      "./sktelecom\n",
      "./koreaelectric\n",
      "./samsungelectronics\n",
      "./posco\n",
      "./hyundaimotor\n",
      "./lgchem\n",
      "./skhynix\n"
     ]
    }
   ],
   "source": [
    "import os\n",
    "filenames = []\n",
    "cors = []\n",
    "for r,d,f in os.walk(\"./\"):\n",
    "    print(r)\n",
    "    for file in f:\n",
    "        if file.endswith('.csv'):\n",
    "            filenames.append(r + '/' + file)\n",
    "            \n",
    "    \n"
   ]
  },
  {
   "cell_type": "code",
   "execution_count": 332,
   "metadata": {},
   "outputs": [
    {
     "data": {
      "text/plain": [
       "[]"
      ]
     },
     "execution_count": 332,
     "metadata": {},
     "output_type": "execute_result"
    }
   ],
   "source": [
    "cors"
   ]
  },
  {
   "cell_type": "code",
   "execution_count": 46,
   "metadata": {},
   "outputs": [],
   "source": [
    "import pandas as pd\n",
    "df_list = [pd.read_csv(filename, delimiter=';', engine='python', encoding='utf-8').sort_index(axis=0, ascending=False).reset_index() for filename in filenames]\n"
   ]
  },
  {
   "cell_type": "code",
   "execution_count": 48,
   "metadata": {},
   "outputs": [],
   "source": [
    "df_list = [df[df['Vol.'] != '-'].reset_index() for df in df_list]"
   ]
  },
  {
   "cell_type": "code",
   "execution_count": 50,
   "metadata": {},
   "outputs": [],
   "source": [
    "df_list = [df['Price'] for df in df_list]"
   ]
  },
  {
   "cell_type": "code",
   "execution_count": 51,
   "metadata": {},
   "outputs": [
    {
     "data": {
      "text/plain": [
       "2765072.2706987243"
      ]
     },
     "execution_count": 51,
     "metadata": {},
     "output_type": "execute_result"
    }
   ],
   "source": [
    "dtw(df_list[0],df_list[1])"
   ]
  },
  {
   "cell_type": "code",
   "execution_count": 52,
   "metadata": {},
   "outputs": [
    {
     "data": {
      "text/plain": [
       "3381339.1958660404"
      ]
     },
     "execution_count": 52,
     "metadata": {},
     "output_type": "execute_result"
    }
   ],
   "source": [
    "dtw(df_list[1], df_list[2])"
   ]
  },
  {
   "cell_type": "code",
   "execution_count": 53,
   "metadata": {},
   "outputs": [
    {
     "data": {
      "text/plain": [
       "3044595.95921807"
      ]
     },
     "execution_count": 53,
     "metadata": {},
     "output_type": "execute_result"
    }
   ],
   "source": [
    "dtw(df_list[0], df_list[3])"
   ]
  },
  {
   "cell_type": "code",
   "execution_count": 316,
   "metadata": {},
   "outputs": [
    {
     "data": {
      "text/plain": [
       "0      0.738811\n",
       "1      0.806950\n",
       "2      0.814517\n",
       "3      0.806950\n",
       "4      0.757737\n",
       "5      0.761529\n",
       "6      0.772880\n",
       "7      0.772880\n",
       "8      0.742602\n",
       "9      0.655537\n",
       "10     0.659320\n",
       "11     0.640394\n",
       "12     0.674463\n",
       "13     0.659320\n",
       "14     0.716100\n",
       "15     0.716100\n",
       "16     0.757737\n",
       "17     0.799382\n",
       "18     0.788023\n",
       "19     0.719884\n",
       "20     0.723676\n",
       "21     0.700958\n",
       "22     0.727459\n",
       "23     0.704749\n",
       "24     0.803166\n",
       "25     0.761529\n",
       "26     0.784239\n",
       "27     0.799382\n",
       "28     0.757737\n",
       "29     0.761529\n",
       "         ...   \n",
       "216    0.335907\n",
       "217    0.324324\n",
       "218    0.293436\n",
       "219    0.289575\n",
       "220    0.308880\n",
       "221    0.258687\n",
       "222    0.270270\n",
       "223    0.289575\n",
       "224    0.266409\n",
       "225    0.274131\n",
       "226    0.254826\n",
       "227    0.289575\n",
       "228    0.274131\n",
       "229    0.169884\n",
       "230    0.142857\n",
       "231    0.162162\n",
       "232    0.138996\n",
       "233    0.100386\n",
       "234    0.138996\n",
       "235    0.108108\n",
       "236    0.077220\n",
       "237    0.108108\n",
       "238    0.108108\n",
       "239    0.088803\n",
       "240    0.073359\n",
       "241    0.057915\n",
       "242    0.111969\n",
       "243    0.065637\n",
       "244    0.050193\n",
       "245    0.000000\n",
       "Name: Price, Length: 246, dtype: float64"
      ]
     },
     "execution_count": 316,
     "metadata": {},
     "output_type": "execute_result"
    }
   ],
   "source": [
    "(df_list[0]-df_list[0].min())/(df_list[0].max()-df_list[0].min())"
   ]
  },
  {
   "cell_type": "code",
   "execution_count": null,
   "metadata": {},
   "outputs": [],
   "source": []
  },
  {
   "cell_type": "code",
   "execution_count": 23,
   "metadata": {},
   "outputs": [],
   "source": [
    "import matplotlib.pyplot as plt"
   ]
  },
  {
   "cell_type": "code",
   "execution_count": 26,
   "metadata": {},
   "outputs": [
    {
     "data": {
      "text/plain": [
       "[<matplotlib.lines.Line2D at 0x7f8ee3930d30>]"
      ]
     },
     "execution_count": 26,
     "metadata": {},
     "output_type": "execute_result"
    },
    {
     "data": {
      "image/png": "[encoded data removed]",
      "text/plain": [
       "<Figure size 432x288 with 1 Axes>"
      ]
     },
     "metadata": {
      "needs_background": "light"
     },
     "output_type": "display_data"
    }
   ],
   "source": [
    "plt.plot(df_list[1])"
   ]
  },
  {
   "cell_type": "code",
   "execution_count": 27,
   "metadata": {},
   "outputs": [
    {
     "data": {
      "text/plain": [
       "[<matplotlib.lines.Line2D at 0x7f8ee38ebef0>]"
      ]
     },
     "execution_count": 27,
     "metadata": {},
     "output_type": "execute_result"
    },
    {
     "data": {
      "image/png": "[encoded data removed]",
      "text/plain": [
       "<Figure size 432x288 with 1 Axes>"
      ]
     },
     "metadata": {
      "needs_background": "light"
     },
     "output_type": "display_data"
    }
   ],
   "source": [
    "plt.plot(df_list[0])"
   ]
  },
  {
   "cell_type": "code",
   "execution_count": 28,
   "metadata": {},
   "outputs": [
    {
     "data": {
      "text/plain": [
       "[<matplotlib.lines.Line2D at 0x7f8ee38a7748>]"
      ]
     },
     "execution_count": 28,
     "metadata": {},
     "output_type": "execute_result"
    },
    {
     "data": {
      "image/png": "[encoded data removed]",
      "text/plain": [
       "<Figure size 432x288 with 1 Axes>"
      ]
     },
     "metadata": {
      "needs_background": "light"
     },
     "output_type": "display_data"
    }
   ],
   "source": [
    "plt.plot(df_list[2])"
   ]
  },
  {
   "cell_type": "code",
   "execution_count": 29,
   "metadata": {},
   "outputs": [
    {
     "data": {
      "text/plain": [
       "[<matplotlib.lines.Line2D at 0x7f8ee38df438>]"
      ]
     },
     "execution_count": 29,
     "metadata": {},
     "output_type": "execute_result"
    },
    {
     "data": {
      "image/png": "[encoded data removed]",
      "text/plain": [
       "<Figure size 432x288 with 1 Axes>"
      ]
     },
     "metadata": {
      "needs_background": "light"
     },
     "output_type": "display_data"
    }
   ],
   "source": [
    "plt.plot(df_list[3])"
   ]
  },
  {
   "cell_type": "code",
   "execution_count": 61,
   "metadata": {},
   "outputs": [],
   "source": [
    "import statsmodels.tsa"
   ]
  },
  {
   "cell_type": "code",
   "execution_count": 298,
   "metadata": {},
   "outputs": [
    {
     "name": "stdout",
     "output_type": "stream",
     "text": [
      "\n",
      "Granger Causality\n",
      "number of lags (no zero) 1\n",
      "ssr based F test:         F=14.2383 , p=0.0002  , df_denom=242, df_num=1\n",
      "ssr based chi2 test:   chi2=14.4148 , p=0.0001  , df=1\n",
      "likelihood ratio test: chi2=14.0067 , p=0.0002  , df=1\n",
      "parameter F test:         F=14.2383 , p=0.0002  , df_denom=242, df_num=1\n",
      "\n",
      "Granger Causality\n",
      "number of lags (no zero) 2\n",
      "ssr based F test:         F=9.2390  , p=0.0001  , df_denom=239, df_num=2\n",
      "ssr based chi2 test:   chi2=18.8646 , p=0.0001  , df=2\n",
      "likelihood ratio test: chi2=18.1709 , p=0.0001  , df=2\n",
      "parameter F test:         F=9.2390  , p=0.0001  , df_denom=239, df_num=2\n",
      "\n",
      "Granger Causality\n",
      "number of lags (no zero) 3\n",
      "ssr based F test:         F=6.3701  , p=0.0004  , df_denom=236, df_num=3\n",
      "ssr based chi2 test:   chi2=19.6772 , p=0.0002  , df=3\n",
      "likelihood ratio test: chi2=18.9211 , p=0.0003  , df=3\n",
      "parameter F test:         F=6.3701  , p=0.0004  , df_denom=236, df_num=3\n",
      "\n",
      "Granger Causality\n",
      "number of lags (no zero) 4\n",
      "ssr based F test:         F=4.7490  , p=0.0011  , df_denom=233, df_num=4\n",
      "ssr based chi2 test:   chi2=19.7296 , p=0.0006  , df=4\n",
      "likelihood ratio test: chi2=18.9665 , p=0.0008  , df=4\n",
      "parameter F test:         F=4.7490  , p=0.0011  , df_denom=233, df_num=4\n",
      "\n",
      "Granger Causality\n",
      "number of lags (no zero) 5\n",
      "ssr based F test:         F=3.8423  , p=0.0023  , df_denom=230, df_num=5\n",
      "ssr based chi2 test:   chi2=20.1301 , p=0.0012  , df=5\n",
      "likelihood ratio test: chi2=19.3335 , p=0.0017  , df=5\n",
      "parameter F test:         F=3.8423  , p=0.0023  , df_denom=230, df_num=5\n"
     ]
    }
   ],
   "source": [
    "result=statsmodels.tsa.stattools.grangercausalitytests(x, 5)"
   ]
  },
  {
   "cell_type": "code",
   "execution_count": 297,
   "metadata": {},
   "outputs": [],
   "source": [
    "import numpy as np\n",
    "x= np.concatenate((np.expand_dims(df_list[1],1), np.expand_dims(df_list[0],1)), axis=1)"
   ]
  },
  {
   "cell_type": "code",
   "execution_count": 42,
   "metadata": {},
   "outputs": [
    {
     "ename": "AttributeError",
     "evalue": "'numpy.ndarray' object has no attribute 'expands_dim'",
     "output_type": "error",
     "traceback": [
      "\u001b[0;31m---------------------------------------------------------------------------\u001b[0m",
      "\u001b[0;31mAttributeError\u001b[0m                            Traceback (most recent call last)",
      "\u001b[0;32m<ipython-input-42-8b557dd1aeec>\u001b[0m in \u001b[0;36m<module>\u001b[0;34m()\u001b[0m\n\u001b[0;32m----> 1\u001b[0;31m \u001b[0mdf_list\u001b[0m\u001b[0;34m[\u001b[0m\u001b[0;36m0\u001b[0m\u001b[0;34m]\u001b[0m\u001b[0;34m.\u001b[0m\u001b[0mvalues\u001b[0m\u001b[0;34m.\u001b[0m\u001b[0mexpands_dim\u001b[0m\u001b[0;34m(\u001b[0m\u001b[0;36m1\u001b[0m\u001b[0;34m)\u001b[0m\u001b[0;34m\u001b[0m\u001b[0m\n\u001b[0m",
      "\u001b[0;31mAttributeError\u001b[0m: 'numpy.ndarray' object has no attribute 'expands_dim'"
     ]
    }
   ],
   "source": [
    "df_list[0].values.expands_dim(1)"
   ]
  },
  {
   "cell_type": "code",
   "execution_count": 45,
   "metadata": {},
   "outputs": [
    {
     "data": {
      "text/plain": [
       "283"
      ]
     },
     "execution_count": 45,
     "metadata": {},
     "output_type": "execute_result"
    }
   ],
   "source": [
    "np.expand_dims(df_list[0],1).size"
   ]
  },
  {
   "cell_type": "code",
   "execution_count": 85,
   "metadata": {},
   "outputs": [
    {
     "data": {
      "text/plain": [
       "{1: ({'lrtest': (4.547473508864641e-13, 0.9999994619468846, 1),\n",
       "   'params_ftest': (4769.952337884648, 1.0213684903812106e-161, 243.0, 1.0),\n",
       "   'ssr_chi2test': (3.613962816506691e-13, 0.999999520341769, 1),\n",
       "   'ssr_ftest': (3.5844610792290855e-13, 0.9999995101472762, 243.0, 1)},\n",
       "  [<statsmodels.regression.linear_model.RegressionResultsWrapper at 0x7f8ee1d83fd0>,\n",
       "   <statsmodels.regression.linear_model.RegressionResultsWrapper at 0x7f8ee1d83208>,\n",
       "   array([[0., 1., 0.]])])}"
      ]
     },
     "execution_count": 85,
     "metadata": {},
     "output_type": "execute_result"
    }
   ],
   "source": [
    "result"
   ]
  },
  {
   "cell_type": "code",
   "execution_count": 84,
   "metadata": {},
   "outputs": [
    {
     "data": {
      "text/plain": [
       "(4769.952337884648, 1.0213684903812106e-161, 243.0, 1.0)"
      ]
     },
     "execution_count": 84,
     "metadata": {},
     "output_type": "execute_result"
    }
   ],
   "source": [
    "result[1][0]['params_ftest']"
   ]
  },
  {
   "cell_type": "code",
   "execution_count": 78,
   "metadata": {},
   "outputs": [],
   "source": [
    "sim_mat = np.zeros((9,9))"
   ]
  },
  {
   "cell_type": "code",
   "execution_count": 317,
   "metadata": {},
   "outputs": [],
   "source": [
    "df_list = [(df-df.min())/(df.max()-df.min()) for df in df_list]"
   ]
  },
  {
   "cell_type": "code",
   "execution_count": 319,
   "metadata": {},
   "outputs": [],
   "source": [
    "for i in range(9):\n",
    "    for j in range(9):\n",
    "        #x= np.concatenate((np.expand_dims(df_list[i],1), np.expand_dims(df_list[j],1)), axis=1)\n",
    "        #result = statsmodels.tsa.stattools.grangercausalitytests(x, 5, verbose=False)\n",
    "        #results = [1-result[i+1][0]['ssr_ftest'][1] for i in range(5)]\n",
    "        #sim_mat[i,j] = np.array(results).mean()\n",
    "        sim_mat[i,j] = dtw(df_list[i], df_list[j])"
   ]
  },
  {
   "cell_type": "code",
   "execution_count": 301,
   "metadata": {},
   "outputs": [],
   "source": [
    "sim_mat = sim_mat * 100"
   ]
  },
  {
   "cell_type": "code",
   "execution_count": 308,
   "metadata": {},
   "outputs": [],
   "source": [
    "from sklearn import cluster"
   ]
  },
  {
   "cell_type": "code",
   "execution_count": 320,
   "metadata": {},
   "outputs": [
    {
     "data": {
      "text/plain": [
       "array([2, 2, 0, 0, 1, 2, 1, 0, 1])"
      ]
     },
     "execution_count": 320,
     "metadata": {},
     "output_type": "execute_result"
    }
   ],
   "source": [
    "c = cluster.AgglomerativeClustering(3, 'precomputed',linkage='complete')\n",
    "c.fit(sim_mat).labels_"
   ]
  },
  {
   "cell_type": "code",
   "execution_count": 304,
   "metadata": {},
   "outputs": [],
   "source": [
    "dbscan=cluster.OPTICS( min_samples=2, min_cluster_size=2, metric='precomputed')"
   ]
  },
  {
   "cell_type": "code",
   "execution_count": 305,
   "metadata": {},
   "outputs": [
    {
     "data": {
      "text/plain": [
       "array([0, 0, 0, 0, 0, 0, 0, 0, 0])"
      ]
     },
     "execution_count": 305,
     "metadata": {},
     "output_type": "execute_result"
    }
   ],
   "source": [
    "dbscan.fit(sim_mat).labels_"
   ]
  },
  {
   "cell_type": "code",
   "execution_count": 327,
   "metadata": {
    "scrolled": true
   },
   "outputs": [
    {
     "data": {
      "text/plain": [
       "[<matplotlib.lines.Line2D at 0x7f8edc2b6f98>]"
      ]
     },
     "execution_count": 327,
     "metadata": {},
     "output_type": "execute_result"
    },
    {
     "data": {
      "image/png": "[encoded data removed]",
      "text/plain": [
       "<Figure size 432x288 with 1 Axes>"
      ]
     },
     "metadata": {
      "needs_background": "light"
     },
     "output_type": "display_data"
    }
   ],
   "source": [
    "plt.plot(df_list[8])"
   ]
  },
  {
   "cell_type": "code",
   "execution_count": null,
   "metadata": {},
   "outputs": [],
   "source": []
  },
  {
   "cell_type": "code",
   "execution_count": 311,
   "metadata": {},
   "outputs": [
    {
     "data": {
      "text/plain": [
       "array([[    0.        , 27650.72270699,  5805.33598184, 30445.95959218,\n",
       "        28173.32640777,  4311.28678088, 16049.45341152, 19607.82537531,\n",
       "        23860.01874494],\n",
       "       [27650.72270699,     0.        , 33813.39195866,  2858.86686469,\n",
       "          406.50522752, 34218.91196035, 12287.33680461, 48344.2057102 ,\n",
       "         3795.0837606 ],\n",
       "       [ 5805.33598184, 33813.39195866,     0.        , 36584.29572918,\n",
       "        34296.46772993,  3698.68895691, 21835.41900216, 14318.15717891,\n",
       "        29969.6050024 ],\n",
       "       [30445.95959218,  2858.86686469, 36584.29572918,     0.        ,\n",
       "         2280.95643317, 36990.06953224, 15027.46628677, 51083.4654169 ,\n",
       "         6753.74029705],\n",
       "       [28173.32640777,   406.50522752, 34296.46772993,  2280.95643317,\n",
       "            0.        , 34702.34738098, 12709.95400267, 48792.94240718,\n",
       "         4379.57743395],\n",
       "       [ 4311.28678088, 34218.91196035,  3698.68895691, 36990.06953224,\n",
       "        34702.34738098,     0.        , 22323.55444368, 11771.75220602,\n",
       "        30333.15469911],\n",
       "       [16049.45341152, 12287.33680461, 21835.41900216, 15027.46628677,\n",
       "        12709.95400267, 22323.55444368,     0.        , 36236.46903328,\n",
       "         7749.09188228],\n",
       "       [19607.82537531, 48344.2057102 , 14318.15717891, 51083.4654169 ,\n",
       "        48792.94240718, 11771.75220602, 36236.46903328,     0.        ,\n",
       "        44429.87687356],\n",
       "       [23860.01874494,  3795.0837606 , 29969.6050024 ,  6753.74029705,\n",
       "         4379.57743395, 30333.15469911,  7749.09188228, 44429.87687356,\n",
       "            0.        ]])"
      ]
     },
     "execution_count": 311,
     "metadata": {},
     "output_type": "execute_result"
    }
   ],
   "source": [
    "sim_mat"
   ]
  },
  {
   "cell_type": "code",
   "execution_count": null,
   "metadata": {},
   "outputs": [],
   "source": []
  }
 ],
 "metadata": {
  "kernelspec": {
   "display_name": "Python 3",
   "language": "python",
   "name": "python3"
  },
  "language_info": {
   "codemirror_mode": {
    "name": "ipython",
    "version": 3
   },
   "file_extension": ".py",
   "mimetype": "text/x-python",
   "name": "python",
   "nbconvert_exporter": "python",
   "pygments_lexer": "ipython3",
   "version": "3.5.2"
  }
 },
 "nbformat": 4,
 "nbformat_minor": 2
}
